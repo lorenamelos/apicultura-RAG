{
 "cells": [
  {
   "cell_type": "code",
   "execution_count": 1,
   "id": "5350057e",
   "metadata": {},
   "outputs": [
    {
     "name": "stdout",
     "output_type": "stream",
     "text": [
      "1243\n"
     ]
    }
   ],
   "source": [
    "from langchain_community.document_loaders import PyPDFLoader\n",
    "import os\n",
    "import getpass\n",
    "import dotenv\n",
    "\n",
    "\n",
    "from langchain_openai import ChatOpenAI\n",
    "\n",
    "llm = ChatOpenAI(model=\"gpt-4o\")\n",
    "\n",
    "\n",
    "pdf_folder_path = \"ApicultureData\"\n",
    "documents = []\n",
    "for file in os.listdir(pdf_folder_path):\n",
    "    if file.endswith('.pdf'):\n",
    "        pdf_path = os.path.join(pdf_folder_path, file)\n",
    "        loader = PyPDFLoader(pdf_path)\n",
    "        documents.extend(loader.load())\n",
    "print(len(documents))\n",
    "\n"
   ]
  },
  {
   "cell_type": "code",
   "execution_count": 4,
   "id": "b499235e",
   "metadata": {},
   "outputs": [
    {
     "data": {
      "text/plain": [
       "{'input': 'Quantas colméias de mel natural tem no Rio Grande do Sul?',\n",
       " 'context': [Document(page_content='Tabela 20 – Distribuição da Produção e do Número de  Colméias de Mel Natural do \\nTerritório Central do Estado do Rio Grande do Sul –  2002 E 2006 \\n (em Kg /Quantidade/Taxa de Crescimento) \\nAno \\n2002 2006 2002-2006 \\nMunicípios \\nProdução Nº de \\nColméias Produção Nº de \\nColméias Taxa de Crescimento -\\nColméias \\n \\nAgudo 12.480 832 13.460 897 7,85 \\nCacequi 17.200 1.147 12.500 833 -27,33 \\nCachoeira do Sul 65.500 4.367 78.500 5.233 19,85 \\nCapão do Cipó 8.450 563 12.980 865 53,61 \\nCerro Branco 4.600 307 6.000 400 30,43 \\nDilermando de Aguiar 13.640 909 11.177 745 -18,06 \\nDona Francisca 2.690 179 3.189 213 18,55 \\nFaxinal do Soturno 5.010 334 5.420 361 8,18 \\nFormigueiro 5.880 392 6.075 405 3,32 \\nItaara 7.580 505 10.110 674 33,38 \\nIvorá 10.170 678 8.500 567 -16,42 \\nJaguari 59.271 3.951 59.918 3.995 1,09 \\nJarí 17.250 1.150 26.000 1.733 50,72 \\nJúlio de Castilhos 13.595 906 18.720 1.248 37,70 \\nMata 9.230 615 9.674 645 4,81 \\nNova Esperança do Sul 14.150 943 19.280 1.285 36,25', metadata={'page': 38, 'source': 'ApicultureData/ESTUDO DA CADEIA DO MEL E DERIVADOS.pdf'}),\n",
       "  Document(page_content='Rio Grande do Sul 44.697.000,00 7.819.993 5,72 \\nFonte: Fonte: IBGE, Censo agropecuário/2006; Autores  \\n \\nEm uma pesquisa de mercado realizado junto a 30 api cultores de Cachoeira do \\nSul/RS, Tolotti et. al. (2004, p.3) constatam que o  qu ilo do mel variou de R$ 3,00 a   \\nR$ 10,00; sendo  que o valor mais baixo (R$ 3,00) pro vêm de um apicultor que possuía \\no maior número de colméias (4.000 colméias); e o preço médi o obtido pelo quilo do mel \\nfoi de R$ 6,15.  Os produtores que vendem de porta em  porta normalmente conseguem \\num melhor preço do que aqueles que possuem uma maio r produção, pelas distintas \\nformas de comercialização adotadas. \\nNeste sentido, o Banco do Nordeste, que possuí um imp ortante vínculo com a \\napicultura nordestina, em um de seus artigos eletrôn icos, faz uma comparação entre as \\nvariáveis de produtividade, preço e custo apícola da  Argentina e o Rio Grande do Sul, \\nespecialmente, com bases em algumas análises realizadas  no Planalto Médio do Estado.', metadata={'page': 40, 'source': 'ApicultureData/ESTUDO DA CADEIA DO MEL E DERIVADOS.pdf'}),\n",
       "  Document(page_content='científicos e a própria evolução natural das abelhas, com os cruzamentos entre as espécies, \\ntornando as colme ias mais produtivas (UFMG, 2020).  \\n \\n \\nFIGURA 3 - Histórico da Produção de Mel Brasileiro  \\nFonte: Atlas da Apicultura no Brasil - ABEMEL, 2021  \\n \\nA maior concentração de colmeias está no sul do Brasil com 49,9% do total brasileiro. \\nNos três estados, Rio Grande do Sul, Santa Catarina e Paraná, foram registradas 1.040.475 \\ncolmeias, o Rio Grande do Sul lidera com mais de 486 mil colmeias. Piauí aparece em 4º lugar \\ncom 250 mil colmeias (IBGE, 2021).  \\nEm relação a produção de mel, o estado Paraná foi o maior produtor de 2020, com \\n15% do total produzido (Figura 4). Seguido por Rio Grande Sul, com 14% e pelo Piauí com \\n11%. Juntas, as  regiões sul e nordeste tiveram o maior destaque, soma ndo 75% da produção \\nnacional de mel.', metadata={'page': 7, 'source': 'ApicultureData/Panorama econômico da produção e exportação de mel de abelha\\nproduzidos no Brasil.pdf'}),\n",
       "  Document(page_content='13 \\n \\n \\n 4.3 Mercado  do mel  \\n \\nO mercado do mel é amplamente dominado pela  China , que se configura como o maior \\nprodutor mundial  com uma produção de 47 2.000  toneladas em 2021 . É seguido pela Turquia \\ncom 96 .000 toneladas , pelo Irã (77 .000 toneladas ) e pela Argentina (71 .000 toneladas ). O Brasil \\naparece apenas na décima posição  do ranking  com 55.828 toneladas  (FAO, 202 3).   \\nAtualmente, o estado do Rio Grande do Sul se destaca como o principal produtor de mel \\nno Brasil . Em 2021  registr ou 9.212 tonelada s, o que corresponde a aproximadamente 16,5% do \\ntotal nacional (IBGE, 2021).  De acordo com dados do Atlas da Apicultura no Brasil , existem \\n37.187 estabelecimentos dedicados à apicultura no estado, o que representa cerca de 37% do \\ntotal de estabelecimentos apícolas do país. Além disso, estima -se que esses estabelecimentos \\nabriguem aproximadamente 22% das colmeias existentes no Brasil  (A.B.E.L.H.A , 2023 ).', metadata={'page': 11, 'source': 'ApicultureData/001176736.pdf'})],\n",
       " 'answer': 'O Rio Grande do Sul possui mais de 486 mil colmeias de mel natural.'}"
      ]
     },
     "execution_count": 4,
     "metadata": {},
     "output_type": "execute_result"
    }
   ],
   "source": [
    "from langchain_chroma import Chroma\n",
    "from langchain_openai import OpenAIEmbeddings\n",
    "from langchain_text_splitters import RecursiveCharacterTextSplitter\n",
    "\n",
    "text_splitter = RecursiveCharacterTextSplitter(chunk_size=1000, chunk_overlap=200)\n",
    "splits = text_splitter.split_documents(documents)\n",
    "vectorstore = Chroma.from_documents(documents=splits, embedding=OpenAIEmbeddings())\n",
    "\n",
    "retriever = vectorstore.as_retriever()\n",
    "\n",
    "\n"
   ]
  },
  {
   "cell_type": "code",
   "execution_count": null,
   "id": "d640a06e",
   "metadata": {},
   "outputs": [],
   "source": [
    "from langchain.chains import create_retrieval_chain\n",
    "from langchain.chains.combine_documents import create_stuff_documents_chain\n",
    "from langchain_core.prompts import ChatPromptTemplate\n",
    "\n",
    "system_prompt = (\n",
    "    \"You are an assistant for question-answering tasks. \"\n",
    "    \"Use the following pieces of retrieved context to answer \"\n",
    "    \"the question. If you don't know the answer, say that you \"\n",
    "    \"don't know. Use three sentences maximum and keep the \"\n",
    "    \"answer concise.\"\n",
    "    \"\\n\\n\"\n",
    "    \"{context}\"\n",
    ")\n",
    "\n",
    "prompt = ChatPromptTemplate.from_messages(\n",
    "    [\n",
    "        (\"system\", system_prompt),\n",
    "        (\"human\", \"{input}\"),\n",
    "    ]\n",
    ")\n",
    "\n",
    "\n",
    "question_answer_chain = create_stuff_documents_chain(llm, prompt)\n",
    "rag_chain = create_retrieval_chain(retriever, question_answer_chain)\n",
    "\n",
    "results = rag_chain.invoke({\"input\": \"Quantas colméias de mel natural tem no Rio Grande do Sul?\"})\n",
    "\n",
    "results"
   ]
  },
  {
   "cell_type": "code",
   "execution_count": 10,
   "id": "126d2976",
   "metadata": {},
   "outputs": [
    {
     "name": "stdout",
     "output_type": "stream",
     "text": [
      "Sim, as abelhas gostam do cajueiro. As abelhas solitárias do gênero Centris, conhecidas como abelhas coletoras de óleos, são os principais polinizadores do caju, e espécies de abelhas sem ferrão, como a abelha jandaíra (Melipona subnitida), também coletam néctar nas flores do cajueiro.\n"
     ]
    }
   ],
   "source": [
    "print(results[\"answer\"])"
   ]
  },
  {
   "cell_type": "code",
   "execution_count": 4,
   "id": "aac8eb25",
   "metadata": {},
   "outputs": [
    {
     "name": "stdout",
     "output_type": "stream",
     "text": [
      "{'page': 38, 'source': 'ApicultureData/ESTUDO DA CADEIA DO MEL E DERIVADOS.pdf'}\n"
     ]
    }
   ],
   "source": [
    "print(results[\"context\"][0].metadata)"
   ]
  },
  {
   "cell_type": "code",
   "execution_count": 6,
   "id": "6a529d05",
   "metadata": {},
   "outputs": [
    {
     "data": {
      "text/plain": [
       "{'input': 'As abelhas gostam do cajueiro?',\n",
       " 'context': [Document(page_content='O cajueiro é uma árvore comum em \\npequenos pomares, nas cidades e também muito cultivada em quase \\ntodo o país. O seu fruto\\xa0verdadeiro \\né a castanha, um fruto seco muito apreciado no Brasil e no exterior. O “caju” é um pseudofruto, \\ncarnoso,  suculento e muito rico \\nem fonte de vitamina C, utilizado principalmente na produção de sucos e doces.Suas inflorescências são formadas \\npor flores vermelhas, pequenas e \\nperfumadas. O néctar é o recurso mais atrativo para os polinizadores, embora o pólen também seja \\ncoletado por algumas espécies \\nde abelhas. Abelhas solitárias do gênero Centris, também conhecidas como abelhas coletoras de óleos, são os principais polinizadores \\ndo caju. Espécies de abelhas sem \\nferrão como a abelha jandaíra (Melipona subnitida) também coletam néctar nas flores do \\ncajueiro.\\nAs abelhas do gênero Centris necessitam de óleo para construírem seus ninhos e alimentarem suas crias. Portanto, \\npara garantir a presença dessas', metadata={'page': 7, 'source': 'ApicultureData/GUIA DE PLANTAS VISITADAS POR ABELHAS NA CAATINGA.pdf'}),\n",
       "  Document(page_content='cajueiro.\\nAs abelhas do gênero Centris necessitam de óleo para construírem seus ninhos e alimentarem suas crias. Portanto, \\npara garantir a presença dessas \\nabelhas em grandes áreas de cultivo de caju, recomenda-se o plantio de espécies fontes de óleos \\nflorais como a acerola (Malpighia \\nemarginata). Anacardiaceae\\nAnacardium occidentale L.\\nBiomas de ocorrência: Caatinga, Cerrado, Mata Atlântica, \\nPampa, Pantanal, AmazôniaPeríodo de floração: estação secaCAJUEIRO\\nReferências bibliográficas: 8,9,13,15\\nAnacardium occidentaleÁRVORES 15 ÁRVORES 14', metadata={'page': 7, 'source': 'ApicultureData/GUIA DE PLANTAS VISITADAS POR ABELHAS NA CAATINGA.pdf'}),\n",
       "  Document(page_content='no período da seca alimentam as abelhas, dentre elas,  o angico, a aroeira, \\no cajueiro, o umbuzeiro, a carnaubeira, o juazeiro.  Para produzir o mel, o meliponicultor precisa cuidar das plantas que servem de alimento para as abelhas, e das que são usadas como moradia. Com o trabalho das comunidades no plantio de árvores para as \\nabelhas, estaremos formando cidadania e redesenhando o caminho da \\nsustentabilidade local, com foco em um futuro melhor. Cada vez mais é necessária uma ação combinada de boa governança, bom manejo e participação popular, com o vigor das interações entre os vários \\nsegmentos da sociedade, para a valorização do conhecimento. Um novo \\nmodelo de desenvolvimento vai estimular o ciclo da vida, em vez de impedi-lo. Afinal, a biodiversidade está no coração do desenvolvimento econômico e social.\\nVera Lucia Imperatriz Fonseca é bióloga, Professora Titular de Ecologia', metadata={'page': 5, 'source': 'ApicultureData/GUIA DE PLANTAS VISITADAS POR ABELHAS NA CAATINGA.pdf'}),\n",
       "  Document(page_content='caixilhos  são selecionados em duas categorias  (Apêndice I). A cera mais antiga ou com \\npresença de alimento sólido é altamente atrativa para roedores e para a traça da cera, portanto, \\nos caixilhos nessas condições são devolvidos aos apiários, onde as abelhas realizam a limpeza \\nmesmo durante a entressafra. Os caixilhos  com cera em boas condições são armazenados  no \\npavilhão, em local com boa ventilação e iluminação .', metadata={'page': 24, 'source': 'ApicultureData/001176736.pdf'})],\n",
       " 'answer': 'Sim, as abelhas gostam do cajueiro. Abelhas solitárias do gênero Centris e espécies de abelhas sem ferrão, como a abelha jandaíra (Melipona subnitida), coletam néctar nas flores do cajueiro, sendo atraídas principalmente pelo néctar.'}"
      ]
     },
     "execution_count": 6,
     "metadata": {},
     "output_type": "execute_result"
    }
   ],
   "source": [
    "results = rag_chain.invoke({\"input\": \"As abelhas gostam do cajueiro?\"})\n",
    "\n",
    "results"
   ]
  },
  {
   "cell_type": "code",
   "execution_count": 7,
   "id": "70399269",
   "metadata": {},
   "outputs": [
    {
     "name": "stdout",
     "output_type": "stream",
     "text": [
      "{'page': 7, 'source': 'ApicultureData/GUIA DE PLANTAS VISITADAS POR ABELHAS NA CAATINGA.pdf'}\n"
     ]
    }
   ],
   "source": [
    "print(results[\"context\"][0].metadata)"
   ]
  },
  {
   "cell_type": "code",
   "execution_count": 8,
   "id": "9630fba9",
   "metadata": {},
   "outputs": [
    {
     "data": {
      "text/plain": [
       "{'input': 'Quais as plantas que as abelhas preferem?',\n",
       " 'context': [Document(page_content='Biodiversidade de flores e abelhas \\nTrigona spinipes e\\nWaltheria rotundifolia\\nMelipona subnitida e\\nTarenaya\\xa0spinosa\\nPlebeia sp.  e\\nCroton sonderianus\\nMacho de abelha solitária \\ndormindo na flor Turnera subulata\\nPlebeia sp.  e\\nCereus jamacaru\\nExomalopsis sp.  e\\nSenna obtusifolia\\nApis mellifera\\ne Senegalia polyphylla\\nFrieseomelitta sp.\\ne Libidibia ferrea\\nXylocopa sp. e\\nLibidibia ferrea\\nCeblurgus longipalpis e\\nVarronia leucocephala\\nÁRVORES 09 ÁRVORES 08', metadata={'page': 4, 'source': 'ApicultureData/GUIA DE PLANTAS VISITADAS POR ABELHAS NA CAATINGA.pdf'}),\n",
       "  Document(page_content='Muitas plantas desenvolveram compostos \\nsecundários comumente associados com a defesa contra herbívoros, produzem néctar que é tóxico ou repelente para alguns visitantes florais. Outros meios de intoxicação são via pólen, secreção dos nectários extraflorais, seiva ou “honeydew” (BARKER, 1990; ADLER, 2000). \\nDe acordo com Barker (1990), as plantas que \\napresentam propriedades tóxicas para abelhas geralmente são pouco visitadas por elas, significando redução do risco de intoxicação. Entretanto, em períodos de baixa disponibilidade de recursos, as abelhas podem coletá-los mesmo em plantas tóxicas. Segue-se uma lista das principais espécies de plantas (com seus nomes populares e suas respectivas famílias) relacionadas a intoxicação de abelhas, reportados em trabalhos científicos:7.1.1  Espatódea, bisnagueira, \\ntulipa-africana \\nA espatódea (Sphatodea campanulata,', metadata={'page': 111, 'source': 'ApicultureData/ManualdeDoencasdasAbelhaswebcomprimido.pdf'}),\n",
       "  Document(page_content='17(Scaptotrigona  sp.). A distância entre meliponários também deve ser de 1500 metros.\\nMuitos produtores gostam de ter em um mesmo meliponário várias espécies de abelhas \\ne colocar as colônias próximas umas das outras. Essa prática não é recomendada, pois colônias mais fortes acabam por invadir colônias mais fracas. \\nA flora da região é a característica mais importante a ser levada em consideração na \\nescolha do local. Quanto mais próximo da flora a ser explorada, maior será a produção \\ndas colônias. A conservação e o enriquecimento da flora podem e devem ser realizados, \\nauxiliando na preservação da matéria-prima de produção.\\nCaixa racional\\nExistem vários modelos de caixa racional que podem ser usados (\\nFigura 11 ), sendo \\nnecessária a adaptação à espécie e do \\nprodutor. É importante que o modelo \\nescolhido leve em consideração a biologia das abelhas, arquitetura do ninho e facilidade de \\nmanejo. Atualmente, recomenda-se trabalhar', metadata={'page': 16, 'source': 'ApicultureData/CriacaoAbelhaSemFerrao.pdf'}),\n",
       "  Document(page_content='apícola da sua região, plantando espécies melíferas em sua propriedade.As espécies a serem plantadas devem estar adaptadas às condições\\nclimáticas da região, sendo interessante que sejam plantas de espécies\\nque floresçam nos períodos de ausência de floradas locais, de forma agarantir alguma alternativa de alimento às abelhas nos períodos críticos.Flora apícola\\nApiário sombreado com vegetação nativa.Foto: Darcet C. Souza Foto: Darcet C. Souza', metadata={'page': 62, 'source': 'ApicultureData/Apicultura-Apicultura-Integrada-e-Sustentavel.pdf'})],\n",
       " 'answer': 'As abelhas preferem plantas que não possuem propriedades tóxicas porque plantas tóxicas são geralmente pouco visitadas por elas. As abelhas tendem a coletar recursos de plantas que produzem néctar e pólen sem compostos tóxicos. Espécies específicas de plantas preferidas foram mencionadas em relação a algumas abelhas, como Turnera subulata, Croton sonderianus, e Senna obtusifolia, entre outras.'}"
      ]
     },
     "execution_count": 8,
     "metadata": {},
     "output_type": "execute_result"
    }
   ],
   "source": [
    "results2 = rag_chain.invoke({\"input\": \"Quais as plantas que as abelhas preferem?\"})\n",
    "results2"
   ]
  },
  {
   "cell_type": "code",
   "execution_count": 9,
   "id": "41eb974d",
   "metadata": {},
   "outputs": [
    {
     "name": "stdout",
     "output_type": "stream",
     "text": [
      "{'page': 7, 'source': 'ApicultureData/GUIA DE PLANTAS VISITADAS POR ABELHAS NA CAATINGA.pdf'}\n"
     ]
    }
   ],
   "source": [
    "print(results[\"context\"][0].metadata)"
   ]
  },
  {
   "cell_type": "code",
   "execution_count": 11,
   "id": "a1ea82a1",
   "metadata": {},
   "outputs": [
    {
     "name": "stdout",
     "output_type": "stream",
     "text": [
      "Para iniciar a criação de abelhas sem ferrão, você deve primeiro escolher uma espécie adequada ao seu ambiente e aprender sobre suas necessidades específicas. Em seguida, obtenha um enxame de uma fonte confiável e instale-o em uma colmeia apropriada, preferencialmente perto de uma colônia mãe, para facilitar o estabelecimento inicial. É importante garantir que há uma boa oferta de alimento na área e monitorar o desenvolvimento da colônia regularmente para assegurar seu sucesso.\n",
      "{'page': 37, 'source': 'ApicultureData/ManualdeDoencasdasAbelhaswebcomprimido.pdf'}\n"
     ]
    }
   ],
   "source": [
    "results3 = rag_chain.invoke({\"input\": \"Como posso iniciar minha criação de abelhas sem ferrão?\"})\n",
    "print(results3[\"answer\"])\n",
    "print(results3[\"context\"][0].metadata)"
   ]
  },
  {
   "cell_type": "code",
   "execution_count": null,
   "id": "a94d00a8",
   "metadata": {},
   "outputs": [],
   "source": []
  }
 ],
 "metadata": {
  "kernelspec": {
   "display_name": "Python 3 (ipykernel)",
   "language": "python",
   "name": "python3"
  },
  "language_info": {
   "codemirror_mode": {
    "name": "ipython",
    "version": 3
   },
   "file_extension": ".py",
   "mimetype": "text/x-python",
   "name": "python",
   "nbconvert_exporter": "python",
   "pygments_lexer": "ipython3",
   "version": "3.10.6"
  },
  "toc": {
   "base_numbering": 1,
   "nav_menu": {},
   "number_sections": true,
   "sideBar": true,
   "skip_h1_title": false,
   "title_cell": "Table of Contents",
   "title_sidebar": "Contents",
   "toc_cell": false,
   "toc_position": {},
   "toc_section_display": true,
   "toc_window_display": false
  }
 },
 "nbformat": 4,
 "nbformat_minor": 5
}
